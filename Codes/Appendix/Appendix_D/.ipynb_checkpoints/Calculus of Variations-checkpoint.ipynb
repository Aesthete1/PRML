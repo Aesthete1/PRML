{
 "cells": [
  {
   "cell_type": "markdown",
   "metadata": {},
   "source": [
    "### Derivation complement of formula D.6 - D.7"
   ]
  },
  {
   "cell_type": "markdown",
   "metadata": {},
   "source": [
    "$$\n",
    "\\begin{aligned}\n",
    "  F[y(x) + \\epsilon \\eta(x)] &= F[y(x)] + \\epsilon \\int \\{\\frac{\\partial G}{\\partial y}\\eta (x)dx + \\frac{\\partial G}{\\partial y'}\\eta ' (x)\\}dx + \\mathcal{O}(\\epsilon ^ 2)\\\\\n",
    "   &= F[y(x)] + \\epsilon \\int \\frac{\\partial G}{\\partial y'}\\eta(x)dx + \\epsilon \\int \\frac{\\partial G}{\\partial y'}\\eta '(x)dx + \\frac{\\partial G}{\\partial y'}\\eta ' (x)\\}dx + \\mathcal{O}(\\epsilon ^ 2)\\\\\n",
    "   &= F[y(x)] + \\epsilon \\int \\frac{\\partial G}{\\partial y'}\\eta(x)dx + \\epsilon \\Bigg[\\frac{\\partial G}{\\partial y'}\\eta (x)\\Big|^{x_{right}}_{x_{left}} - \\int \\frac{d}{dx}(\\frac{\\partial G}{\\partial y'})\\eta(x)dx \\Bigg] + \\frac{\\partial G}{\\partial y'}\\eta ' (x)\\}dx + \\mathcal{O}(\\epsilon ^ 2)\\\\\n",
    "   &= F[y(x)] + \\epsilon \\int \\frac{\\partial G}{\\partial y'}\\eta(x)dx - \\epsilon \\int \\frac{d}{dx}(\\frac{\\partial G}{\\partial y'})\\eta(x)dx + \\frac{\\partial G}{\\partial y'}\\eta ' (x)\\}dx + \\mathcal{O}(\\epsilon ^ 2)\\\\\n",
    "   &= F[y(x)] + \\epsilon \\int \\{\\frac{\\partial G}{\\partial y'}\\eta(x)dx - \\frac{d}{dx}(\\frac{\\partial G}{\\partial y'})\\} \\eta(x)dx + \\mathcal{O}(\\epsilon ^ 2)\\\\\n",
    "\\end{aligned}\n",
    "$$"
   ]
  },
  {
   "cell_type": "markdown",
   "metadata": {},
   "source": [
    "Note: I am not sure whether the meaning of \"$\\eta(x)$ must vanish at the boundary of the integral\" is $\\frac{\\partial G}{\\partial y'}\\eta(x) \\big|^{x_{right}}_{x_{left}} = 0$"
   ]
  },
  {
   "cell_type": "code",
   "execution_count": null,
   "metadata": {
    "collapsed": true
   },
   "outputs": [],
   "source": []
  }
 ],
 "metadata": {
  "kernelspec": {
   "display_name": "Python [Root]",
   "language": "python",
   "name": "Python [Root]"
  },
  "language_info": {
   "codemirror_mode": {
    "name": "ipython",
    "version": 2
   },
   "file_extension": ".py",
   "mimetype": "text/x-python",
   "name": "python",
   "nbconvert_exporter": "python",
   "pygments_lexer": "ipython2",
   "version": "2.7.12"
  }
 },
 "nbformat": 4,
 "nbformat_minor": 0
}
