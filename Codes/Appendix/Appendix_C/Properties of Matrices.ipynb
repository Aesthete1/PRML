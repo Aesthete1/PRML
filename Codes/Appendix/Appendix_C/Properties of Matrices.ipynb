{
 "cells": [
  {
   "cell_type": "markdown",
   "metadata": {},
   "source": [
    "### Question"
   ]
  },
  {
   "cell_type": "markdown",
   "metadata": {},
   "source": [
    "How do I understand the equation C.5 - C.7"
   ]
  },
  {
   "cell_type": "markdown",
   "metadata": {},
   "source": [
    "Note:There is a typographical error in the Chinese version.Specifically, at the end of the section \"Basic Matrix Identities\", the sentence \"一组向量 $\\{a_1,\\cdots ,a_N\\}$ 被称为线性相关( linearly independent )\" should be \"一组向量 $\\{a_1,\\cdots ,a_N\\}$ 被称为线性无关( linearly independent )\""
   ]
  },
  {
   "cell_type": "code",
   "execution_count": null,
   "metadata": {
    "collapsed": true
   },
   "outputs": [],
   "source": []
  }
 ],
 "metadata": {
  "kernelspec": {
   "display_name": "Python [Root]",
   "language": "python",
   "name": "Python [Root]"
  },
  "language_info": {
   "codemirror_mode": {
    "name": "ipython",
    "version": 2
   },
   "file_extension": ".py",
   "mimetype": "text/x-python",
   "name": "python",
   "nbconvert_exporter": "python",
   "pygments_lexer": "ipython2",
   "version": "2.7.12"
  }
 },
 "nbformat": 4,
 "nbformat_minor": 0
}
