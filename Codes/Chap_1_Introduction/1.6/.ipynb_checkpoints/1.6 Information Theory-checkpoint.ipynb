{
 "cells": [
  {
   "cell_type": "markdown",
   "metadata": {},
   "source": [
    "### Derivation of fomula 1.95-1.97"
   ]
  },
  {
   "cell_type": "markdown",
   "metadata": {},
   "source": [
    "$$\n",
    "\\begin{aligned}\n",
    "  H &= \\lim\\limits_{N\\to \\infty}\\frac{1}{N}lnN!-\\frac{1}{N}\\sum_i \\ln n_i!\\\\\n",
    "  & = \\lim\\limits_{N\\to \\infty}\\frac{1}{N}(N\\ln N - N)-\\frac{1}{N}\\sum_i (n_i\\ln n_i - n_i)\\quad\\text{//Using stirling}\\\\\n",
    "  & = \\lim\\limits_{N\\to \\infty} \\ln N - 1 - \\frac{1}{N}\\sum_i n_i \\ln n_i + \\frac{\\sum_i n_i}{N}\\quad \\text{//$\\sum_i n_i = {N}$}\\\\\n",
    "  & = \\lim\\limits_{N\\to \\infty} \\ln N - 1 - \\frac{1}{N}\\sum_i n_i \\ln n_i + 1\\\\\n",
    "  & = -\\lim\\limits_{N\\to \\infty} (\\frac{1}{N}\\sum_i n_i \\ln n_i -\\ln N)\\\\\n",
    "  & = -\\lim\\limits_{N\\to \\infty} (\\sum_i \\frac{n_i}{N}\\ln n_i - \\sum_i \\frac{n_i}{N}\\ln N)\\\\\n",
    "  & = -\\lim\\limits_{N\\to \\infty} \\sum_i \\frac{n_i}{N}\\ln(\\frac{n_i}{N})\n",
    "\\end{aligned}\n",
    "$$"
   ]
  },
  {
   "cell_type": "markdown",
   "metadata": {
    "collapsed": true
   },
   "source": [
    "### Derivation of maximum entropy in discrete case using Jensen's inequality"
   ]
  },
  {
   "cell_type": "markdown",
   "metadata": {},
   "source": [
    "The maximum entropy in discrete case is derived from Lagrange multiplier in PRML, here we want to explore how to derive this result from Jensen's inequality"
   ]
  },
  {
   "cell_type": "markdown",
   "metadata": {},
   "source": [
    "$$\n",
    "\\begin{aligned}\n",
    "  H[x] = -\\sum_M p(x)\\ln p(x) = \\sum_M p(x)\\ln \\frac{1}{p(x)} \\leqslant \\ln \\sum_M p(x)\\frac{1}{p(x)} = \\ln M\n",
    "\\end{aligned}\n",
    "$$"
   ]
  },
  {
   "cell_type": "markdown",
   "metadata": {},
   "source": [
    "Here we apply the fact that $\\ln (x)$ is concave, so we can use Jensen's inequality"
   ]
  },
  {
   "cell_type": "markdown",
   "metadata": {
    "collapsed": true
   },
   "source": [
    "### Derivation complement of formula 1.108"
   ]
  },
  {
   "cell_type": "markdown",
   "metadata": {},
   "source": [
    "Essentially, the formula shown just before 1.108 has two types of functional."
   ]
  },
  {
   "cell_type": "markdown",
   "metadata": {},
   "source": [
    "The first type is $$\n",
    "F[p(x)] = \\int p(x)f(x)dx\n",
    "$$\n",
    "where $f(x)$ can be $1$, $x$, $(x-\\mu)^2$ in the formula before 1.108"
   ]
  },
  {
   "cell_type": "markdown",
   "metadata": {},
   "source": [
    "The second type is\n",
    "$$\n",
    "S[p(x)] = \\int p(x)\\ln p(x)dx\n",
    "$$"
   ]
  },
  {
   "cell_type": "markdown",
   "metadata": {},
   "source": [
    "To maximize the functional shown before 1.108 with respect to $p(x)$, we should know how to calculate the derivative of two types of functional set out above."
   ]
  },
  {
   "cell_type": "markdown",
   "metadata": {},
   "source": [
    "As for $F[p(x)] = \\int p(x)f(x)dx$, under a small variation $p(x) \\rightarrow p(x) + \\epsilon \\eta(x)$, we have\n"
   ]
  },
  {
   "cell_type": "markdown",
   "metadata": {},
   "source": [
    "$$\n",
    "F[p(x)+ \\epsilon \\eta(x)] = \\int p(x)f(x)dx + \\epsilon \\int f(x) \\eta(x)dx\n",
    "$$"
   ]
  },
  {
   "cell_type": "markdown",
   "metadata": {},
   "source": [
    "From Appendix D.3, we can easily deduce that the functional derivative is given by"
   ]
  },
  {
   "cell_type": "markdown",
   "metadata": {},
   "source": [
    "$$\n",
    "\\frac{\\delta F}{\\delta p(x)} = f(x)\n",
    "$$"
   ]
  },
  {
   "cell_type": "markdown",
   "metadata": {},
   "source": [
    "In the same way, to find the derivative of $S[p(x)]$, we can add a small variation $p(x) \\rightarrow p(x) + \\epsilon \\eta(x)$.For convenience, let $G(x) = p(x)\\ln p(x)$"
   ]
  },
  {
   "cell_type": "markdown",
   "metadata": {},
   "source": [
    "$$\n",
    "\\begin{aligned}\n",
    "S[p(x) + \\epsilon \\eta (x)] &= \\int p(x)\\ln p(x)dx + \\epsilon \\{\\int \\frac{\\partial G}{\\partial p(x)} \\eta(x)dx + \\int \\frac{\\partial G}{\\partial \\ln p(x)} \\eta(x)dx\\} + \\mathcal{O}(\\epsilon^2)\\\\\n",
    "& = \\int p(x)\\ln p(x)dx + \\epsilon \\{\\int \\ln p(x) \\eta(x)dx + \\int p(x)\\frac{1}{p(x)} \\eta(x)dx\\} + \\mathcal{O}(\\epsilon^2)\\\\\n",
    "& = \\int p(x)\\ln p(x)dx + \\epsilon \\int [\\ln p(x) + 1]\\eta(x)dx + \\mathcal{O}(\\epsilon^2)\n",
    "\\end{aligned}\n",
    "$$"
   ]
  },
  {
   "cell_type": "markdown",
   "metadata": {},
   "source": [
    "From Appendix D.3, we have"
   ]
  },
  {
   "cell_type": "markdown",
   "metadata": {},
   "source": [
    "$$\n",
    "\\frac{\\delta S}{\\delta p(x)} = \\ln p(x) + 1\n",
    "$$"
   ]
  },
  {
   "cell_type": "markdown",
   "metadata": {},
   "source": [
    "Using these results, we have the functional derivative and set it to zero.The equation is given by"
   ]
  },
  {
   "cell_type": "markdown",
   "metadata": {},
   "source": [
    "$$\n",
    "-\\ln p(x) - 1 + \\lambda_1 + \\lambda_2 x + \\lambda_3(x - \\mu)^2 = 0\n",
    "$$"
   ]
  },
  {
   "cell_type": "markdown",
   "metadata": {},
   "source": [
    "Solving this equation, we can get (1.108)"
   ]
  },
  {
   "cell_type": "markdown",
   "metadata": {},
   "source": [
    "$$\n",
    "p(x) = exp\\{-1 + \\lambda_1 + \\lambda_2 x + \\lambda_3(x - \\mu)^2\\}\n",
    "$$"
   ]
  },
  {
   "cell_type": "markdown",
   "metadata": {},
   "source": [
    "Substituting this result into three constraint equations"
   ]
  },
  {
   "cell_type": "markdown",
   "metadata": {},
   "source": [
    "$$\n",
    "\\int_{-\\infty}^\\infty exp\\{-1+\\lambda_1 + \\lambda_2x + \\lambda_3(x-\\mu)^2\\}dx = 1\n",
    "$$\n",
    "\n",
    "$$\n",
    "\\int_{-\\infty}^\\infty  exp\\{-1+\\lambda_1 + \\lambda_2x + \\lambda_3(x-\\mu)^2\\} xdx = \\mu\n",
    "$$\n",
    "\n",
    "$$\n",
    "\\int_{-\\infty}^\\infty (x - \\mu)^2 exp\\{-1+\\lambda_1 + \\lambda_2x + \\lambda_3(x-\\mu)^2\\}dx = \\sigma^2\n",
    "$$"
   ]
  },
  {
   "cell_type": "markdown",
   "metadata": {},
   "source": [
    "Compare with the Gaussian"
   ]
  },
  {
   "cell_type": "markdown",
   "metadata": {},
   "source": [
    "$$\n",
    "\\begin{aligned}\n",
    "  p(x) &= \\frac{1}{(2\\pi \\sigma^2)^{1/2}}exp\\Big\\{\\frac{(x-\\mu)^2}{2\\sigma ^2}\\Big\\}\\\\\n",
    "& = exp\\Big\\{-\\frac{(x-\\mu)^2}{2\\sigma^2} - \\frac{1}{2}\\ln (2\\pi \\sigma^2)\\Big\\}\\\\\n",
    "& = exp\\Big\\{-\\frac{1}{2\\sigma^2}x^2 + \\frac{\\mu}{\\sigma^2}x - \\frac{\\mu ^ 2}{2\\sigma^2} - \\frac{1}{2}\\ln (2\\pi \\sigma^2)\\Big\\}\n",
    "\\end{aligned}\n",
    "$$"
   ]
  },
  {
   "cell_type": "markdown",
   "metadata": {},
   "source": [
    "We can deduce $\\lambda_1, \\lambda_2, \\lambda_3$ by"
   ]
  },
  {
   "cell_type": "markdown",
   "metadata": {},
   "source": [
    "$\\lambda_3 = -\\frac{1}{2\\sigma^2}$\n"
   ]
  },
  {
   "cell_type": "markdown",
   "metadata": {},
   "source": [
    "$-2\\lambda_3 + \\lambda_2 = \\frac{\\mu}{\\sigma^2}$"
   ]
  },
  {
   "cell_type": "markdown",
   "metadata": {},
   "source": [
    "$\\lambda_3 \\mu^2 - 1 = -\\frac{\\mu^2}{2\\sigma^2}-\\frac{1}{2}\\ln (2\\pi \\sigma^2)$"
   ]
  },
  {
   "cell_type": "markdown",
   "metadata": {},
   "source": [
    "The finally result is"
   ]
  },
  {
   "cell_type": "markdown",
   "metadata": {},
   "source": [
    "$\\lambda_1 = 1 - \\frac{1}{2}\\ln (2\\pi \\sigma^2)$"
   ]
  },
  {
   "cell_type": "markdown",
   "metadata": {},
   "source": [
    "$\\lambda_2 = 0$"
   ]
  },
  {
   "cell_type": "markdown",
   "metadata": {},
   "source": [
    "$\\lambda_3 = -\\frac{1}{2\\sigma^2}$"
   ]
  },
  {
   "cell_type": "markdown",
   "metadata": {},
   "source": [
    "Note that the results satisfy the three constraints"
   ]
  }
 ],
 "metadata": {
  "kernelspec": {
   "display_name": "Python [Root]",
   "language": "python",
   "name": "Python [Root]"
  },
  "language_info": {
   "codemirror_mode": {
    "name": "ipython",
    "version": 2
   },
   "file_extension": ".py",
   "mimetype": "text/x-python",
   "name": "python",
   "nbconvert_exporter": "python",
   "pygments_lexer": "ipython2",
   "version": "2.7.12"
  }
 },
 "nbformat": 4,
 "nbformat_minor": 0
}
