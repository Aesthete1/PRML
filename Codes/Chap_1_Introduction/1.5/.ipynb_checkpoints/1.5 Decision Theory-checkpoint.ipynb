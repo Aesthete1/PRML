{
 "cells": [
  {
   "cell_type": "markdown",
   "metadata": {},
   "source": [
    "### Derivation complement of equation 1.85"
   ]
  },
  {
   "cell_type": "markdown",
   "metadata": {},
   "source": [
    "$$\n",
    "\\begin{aligned}\n",
    "p(C_k|\\mathbf{x}_I, \\mathbf{x}_B)& \\propto p(\\mathbf{x}_I,\\mathbf{x}_B|C_k)p(C_k)\\\\\n",
    "&\\propto p(\\mathbf{x}_I|C_k)p(\\mathbf{x}_B|C_k)p(C_k)\\\\\n",
    "& = \\frac{p(C_k|\\mathbf{x}_I)p(x_I)}{p(C_k)}\\cdot \\frac{p(C_k|\\mathbf{x}_B)p(x_B)}{p(C_k)}p(C_k)\\\\\n",
    "&\\propto \\frac{p(C_k|\\mathbf{x}_I)}{p(C_k)}\\cdot \\frac{p(C_k|\\mathbf{x}_B)}{p(C_k)}p(C_k)\\\\\n",
    "&\\propto \\frac{p(C_k|\\mathbf{x}_I)p(C_k|\\mathbf{x}_B)}{p(C_k)}\n",
    "\\end{aligned}\n",
    "$$"
   ]
  },
  {
   "cell_type": "markdown",
   "metadata": {
    "collapsed": true
   },
   "source": [
    "### Derivation complement from equation 1.88 to 1.89"
   ]
  },
  {
   "cell_type": "markdown",
   "metadata": {},
   "source": [
    "$$\n",
    "\\begin{aligned}\n",
    "  &2\\int \\{y(\\mathbf{x}) - t\\}p(\\mathbf{x},t)dt = 0\\\\\n",
    "  &\\rightarrow \\int y(\\mathbf{x})p(\\mathbf{x},t)dt - \\int tp(\\mathbf{x},t) = 0\\\\\n",
    "  &\\rightarrow y(\\mathbf{x})p(x) = \\int tp(\\mathbf{x},t)\\\\\n",
    "  &\\rightarrow y(\\mathbf{x}) = \\frac{\\int tp(\\mathbf{x},t)dt}{p(\\mathbf{x})}\n",
    "   = \\int \\frac{tp(t|\\mathbf{x})}{p(\\mathbf{x})}dt\n",
    "   = \\mathbb{E}_t[t|\\mathbf{x}]\n",
    "\\end{aligned}\n",
    "$$"
   ]
  },
  {
   "cell_type": "markdown",
   "metadata": {},
   "source": [
    "### Problem of 1.90"
   ]
  },
  {
   "cell_type": "markdown",
   "metadata": {},
   "source": [
    "Why does the cross-term vanish by integral over $t$?Is $\\{y(\\mathbf(x) - \\mathbb{E}[t|\\mathbf{x}]\\} = 0$ or $\\{\\mathbb{E}[t|\\mathbf{x}] - t\\} = 0$ and why do they equal to zero?"
   ]
  },
  {
   "cell_type": "code",
   "execution_count": null,
   "metadata": {
    "collapsed": true
   },
   "outputs": [],
   "source": []
  }
 ],
 "metadata": {
  "kernelspec": {
   "display_name": "Python [Root]",
   "language": "python",
   "name": "Python [Root]"
  },
  "language_info": {
   "codemirror_mode": {
    "name": "ipython",
    "version": 2
   },
   "file_extension": ".py",
   "mimetype": "text/x-python",
   "name": "python",
   "nbconvert_exporter": "python",
   "pygments_lexer": "ipython2",
   "version": "2.7.12"
  }
 },
 "nbformat": 4,
 "nbformat_minor": 0
}
