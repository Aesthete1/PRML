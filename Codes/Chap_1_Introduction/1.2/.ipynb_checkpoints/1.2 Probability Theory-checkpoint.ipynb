{
 "cells": [
  {
   "cell_type": "markdown",
   "metadata": {},
   "source": [
    "### Derivation complement of equation 1.54"
   ]
  },
  {
   "cell_type": "markdown",
   "metadata": {},
   "source": [
    "$$\n",
    "\\begin{align}\n",
    "lnp(\\mathbf{x}|\\mu, \\sigma^2) &=ln\\prod^N_{n=1}\\frac{1}{(2\\pi \\sigma^2)^{\\frac{1}{2}}}exp\\{-\\frac{1}{2\\sigma^2}(X_n - \\mu)^2\\}\\\\\n",
    "&=ln[(2\\pi \\sigma^2)^{-\\frac{N}{2}}exp\\{-\\frac{1}{2\\sigma^2}\\sum^N_{n=1}(X_n - \\mu)^2\\}]\\\\\n",
    "&=-\\frac{N}{2}ln(2\\pi \\sigma^2) - \\frac{1}{2\\sigma^2}\\sum_{n=1}^N(x_n - \\mu)^2\\\\\n",
    "&=-\\frac{1}{2\\sigma^2}\\sum\\limits^N_{n=1}(x_n - \\mu)^2 - \\frac{N}{2}ln\\sigma^2ln(2\\pi)\n",
    "\\end{align}\n",
    "$$"
   ]
  },
  {
   "cell_type": "markdown",
   "metadata": {},
   "source": [
    "### Derivation complement of equation 1.55"
   ]
  },
  {
   "cell_type": "markdown",
   "metadata": {},
   "source": [
    "$$\n",
    "\\frac{\\partial lnp(\\mathbf{x}|\\mu,\\sigma^2)}{\\partial \\mu} = \\frac{1}{\\sigma^2}\\sum^N_{n=1}(x_n-\\mu) = 0 \n",
    "\\rightarrow \\mu_{ML} = \\frac{1}{N}\\sum^N_{n=1}x_n\n",
    "$$"
   ]
  },
  {
   "cell_type": "markdown",
   "metadata": {},
   "source": [
    "### Derivation complement of equation 1.56"
   ]
  },
  {
   "cell_type": "markdown",
   "metadata": {},
   "source": [
    "$$\n",
    "\\frac{\\partial ln p(\\mathbf{x}|\\mu, \\sigma^2)}{\\partial \\sigma^2} = -\\frac{1}{2}\\sum^N_{n=1}(X_n-\\mu)^2\\cdot (-2\\cdot \\frac{1}{\\sigma^3}) - \\frac{N}{2}\\cdot \\frac{2\\sigma}{\\sigma^2} = 0 \\rightarrow \\sigma^2_{ML} = \\frac{1}{N}\\sum^N_{n=2}(x_n - \\mu_{ML})^2\n",
    "$$"
   ]
  },
  {
   "cell_type": "markdown",
   "metadata": {
    "collapsed": true
   },
   "source": [
    "### Derivation complement of equation 1.63"
   ]
  },
  {
   "cell_type": "markdown",
   "metadata": {},
   "source": [
    "$$\\frac{\\partial p(\\mathbf{t}|\\mathbf{x},w,\\beta )}{\\partial \\beta} = -\\frac{1}{2}\\sum^N_{n=1}\\{y(x_nm,\\mathbf{w}-t_n)^2 + \\frac{N}{2\\beta} = 0 \\rightarrow \\frac{1}{\\beta_{ML}} = \\frac{1}{N}\\sum^N_{n=1}\\{y(x_n,\\mathbf{w}_{ML}) - t_n\\}^2\\}$$"
   ]
  },
  {
   "cell_type": "markdown",
   "metadata": {
    "collapsed": true
   },
   "source": [
    "### Comprehension about equation 1.68"
   ]
  },
  {
   "cell_type": "markdown",
   "metadata": {},
   "source": [
    "I can understand the equation 1.68 intuitively, but I wanna make clear how to give a rigorous derivation.\n",
    "In a fully Bayesian approach, the data set $x$ is observed(i.e. It is already known), so the unkown variables are $w$ and the target value $t$.Thus we can simplify (1.68) by eliminating variable $x$"
   ]
  },
  {
   "cell_type": "markdown",
   "metadata": {},
   "source": [
    "$$p(t)=\\int p(t|\\mathbf{w})p(\\mathbf{w}) d\\mathbf{w}=\\int p(t,\\mathbf{w})d\\mathbf{w}$$"
   ]
  },
  {
   "cell_type": "markdown",
   "metadata": {},
   "source": [
    "This is easy to understand, we can model the joint distributrion $\\int p(t,\\mathbf{w}) d\\mathbf{w}$ and then marginalize it to obtain the probability $p(t)$"
   ]
  },
  {
   "cell_type": "markdown",
   "metadata": {},
   "source": [
    "Substituting the data variable $x$, these equation will look like this:"
   ]
  },
  {
   "cell_type": "markdown",
   "metadata": {},
   "source": [
    "$$p(t)=\\int p(t|\\mathbf{w})p(\\mathbf{w}) d\\mathbf{w}=\\int p(t,\\mathbf{w})d\\mathbf{w}$$"
   ]
  },
  {
   "cell_type": "markdown",
   "metadata": {},
   "source": [
    "**Reference**"
   ]
  },
  {
   "cell_type": "markdown",
   "metadata": {},
   "source": [
    "Author：hschen"
   ]
  },
  {
   "cell_type": "markdown",
   "metadata": {},
   "source": [
    "URL  https://www.zhihu.com/question/44532390/answer/99662629"
   ]
  },
  {
   "cell_type": "markdown",
   "metadata": {},
   "source": [
    "Source：Zhihu"
   ]
  },
  {
   "cell_type": "markdown",
   "metadata": {},
   "source": [
    "### Derivation complement from 1.69 to 1.72"
   ]
  },
  {
   "cell_type": "markdown",
   "metadata": {},
   "source": [
    "I totally didn't understand the equation 1.69-1.72 at the first, such many mathematical symbols showing up in the meantime scare the shit out of me, but  I believe I can figure it out for the next time!"
   ]
  }
 ],
 "metadata": {
  "kernelspec": {
   "display_name": "Python [Root]",
   "language": "python",
   "name": "Python [Root]"
  },
  "language_info": {
   "codemirror_mode": {
    "name": "ipython",
    "version": 2
   },
   "file_extension": ".py",
   "mimetype": "text/x-python",
   "name": "python",
   "nbconvert_exporter": "python",
   "pygments_lexer": "ipython2",
   "version": "2.7.12"
  }
 },
 "nbformat": 4,
 "nbformat_minor": 0
}
