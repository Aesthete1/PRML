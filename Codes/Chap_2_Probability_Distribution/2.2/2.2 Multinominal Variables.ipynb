{
 "cells": [
  {
   "cell_type": "markdown",
   "metadata": {},
   "source": [
    "### Derivation complement of formula 2.35"
   ]
  },
  {
   "cell_type": "markdown",
   "metadata": {},
   "source": [
    "The normalization coefficient of multinominal distribution is the number of ways to partitioning N objects int oK groups of size $m_1, \\cdots , m_k$, "
   ]
  },
  {
   "cell_type": "markdown",
   "metadata": {},
   "source": [
    "We can do this partition sequentially.Firstly, we can choose $m_1$ objects for the first group.There are ${N \\choose m_1}$ ways to perform this.Then we should choose anothor $m_2$ objects from the rest,there are ${N-m_1 \\choose m_2}$ ways to do this. Similarly, we have ${N-(m_1+m_2) \\choose m_3}$ choices for the third group."
   ]
  },
  {
   "cell_type": "markdown",
   "metadata": {},
   "source": [
    "The rest can be done in the same manner, so we have"
   ]
  },
  {
   "cell_type": "markdown",
   "metadata": {},
   "source": [
    "$$\n",
    "\\begin{aligned}\n",
    "&{N\\choose m_1}{N-m_1\\choose m_2}{N-(m_1+m_2)\\choose m_3}\\cdots{N-(m_1+m_2+\\cdots +m_{k-1})\\choose m_k}\\\\\n",
    " = &\\frac{N!}{m_1!(N-m_1)!}\\cdot \\frac{(N-m_1)!}{m_2![N-(m_1+m_2)]!}\\cdot \\frac{[N-(m_1+m_2)]!}{m_3![N-(m_1+m_2+m_3)]!}\\cdots \\frac{[N-(m_1+m_2+\\cdots +m_{k-1})]!}{m_k![N - (m_1+m_2+\\cdots m_k)]!}\n",
    "\\end{aligned}\n",
    "$$"
   ]
  },
  {
   "cell_type": "code",
   "execution_count": null,
   "metadata": {
    "collapsed": true
   },
   "outputs": [],
   "source": []
  }
 ],
 "metadata": {
  "kernelspec": {
   "display_name": "Python [Root]",
   "language": "python",
   "name": "Python [Root]"
  },
  "language_info": {
   "codemirror_mode": {
    "name": "ipython",
    "version": 2
   },
   "file_extension": ".py",
   "mimetype": "text/x-python",
   "name": "python",
   "nbconvert_exporter": "python",
   "pygments_lexer": "ipython2",
   "version": "2.7.12"
  }
 },
 "nbformat": 4,
 "nbformat_minor": 0
}
