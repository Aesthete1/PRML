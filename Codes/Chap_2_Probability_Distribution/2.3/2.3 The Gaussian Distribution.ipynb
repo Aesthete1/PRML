{
 "cells": [
  {
   "cell_type": "markdown",
   "metadata": {
    "collapsed": true
   },
   "source": [
    "### How to prove that the matrix $\\Sigma$ of formula 2.44 can be taken to be symmetric?"
   ]
  },
  {
   "cell_type": "markdown",
   "metadata": {},
   "source": [
    "Consider a general square matrix $M$ with elements $M_{ij}$.We can decompose $M$ into two matrix $M = M^A + M^S$ where "
   ]
  },
  {
   "cell_type": "markdown",
   "metadata": {},
   "source": [
    "$$\n",
    "M^S_{ij} = \\frac{M_{ij} + M_{ji}}{2},M^A_{ij} = \\frac{M_{ij} - M_{ji}}{2}\n",
    "$$"
   ]
  },
  {
   "cell_type": "markdown",
   "metadata": {},
   "source": [
    "Note that $M^S$ is symmetric so that $M^S_{ij} = M^S_{ji}$, and $M^A$ is antisymmetric so that $M^A_{ij} = -M^A_{ji}$"
   ]
  },
  {
   "cell_type": "markdown",
   "metadata": {},
   "source": [
    "The quadratic form in the exponent of a D-dimensional multivariate Gaussian distribution can be written\n",
    "$$\n",
    "\\sum^D_{i = 1}\\sum^D_{j = 1}(x_i - \\mu_i)M_{ij}(x_j - \\mu_j)\n",
    "$$"
   ]
  },
  {
   "cell_type": "markdown",
   "metadata": {},
   "source": [
    "where $M = \\Sigma^{-1}$ is the precision matrix."
   ]
  },
  {
   "cell_type": "markdown",
   "metadata": {},
   "source": [
    "When we substitute $M = M^A + M^S$ into the quadratic form we see that the term involving $M^A$ vanishes.Thus we can always take $M$ to be symmetric."
   ]
  },
  {
   "cell_type": "markdown",
   "metadata": {},
   "source": [
    "Take a 3-Dimension example, say $(\\mathbf{x} - \\mathbf{\\mu}) = (a_1, a_2, a_3)$,and $$M = \\left( \\begin{array}{ccc}\n",
    "   b_{11} & b_{12} & b_{13} \\\\\n",
    "   b_{21} & b_{22} & b_{23} \\\\\n",
    "   b_{31} & b_{32} & b_{33}\n",
    " \\end{array} \\right)$$\n",
    " \n",
    " \n",
    "\n",
    " $$\n",
    "M^S = \\left( \\begin{array}{ccc}\n",
    "  b_{11} & \\frac{b_{12} + b_{21}}{2} & \\frac{b_{13} + b_{31}}{2} \\\\\n",
    "  \\frac{b_{21} + b_{12}}{2} & b_{22} & \\frac{b_{23} + b{32}}{2} \\\\\n",
    "  \\frac{b_{31} + b_{13}}{2} & \\frac{b_{32} + b_{23}}{2} & b_{33} \n",
    "\\end{array}\n",
    "\\right)\n",
    "$$\n",
    "\n",
    "\n",
    "$$\n",
    "M^A =\n",
    "\\left(\n",
    "\\begin{array}{ccc}\n",
    "  0 & \\frac{b_{12} - b_{21}}{2} & \\frac{b_{13} - b_{31}}{2} \\\\\n",
    "  \\frac{b_{21} - b_{12}}{2} & 0 & \\frac{b_{23} - b{32}}{2} \\\\\n",
    "  \\frac{b_{31} - b_{13}}{2} & \\frac{b_{32} - b_{23}}{2} & 0\n",
    "\\end{array}\n",
    "\\right)\n",
    "$$"
   ]
  },
  {
   "cell_type": "markdown",
   "metadata": {},
   "source": [
    "So the quadratic form can be written"
   ]
  },
  {
   "cell_type": "markdown",
   "metadata": {},
   "source": [
    "$$\n",
    "(a_1, a_2, a_3)\n",
    " \\left( \\begin{array}{ccc}\n",
    "   b_{11} & b_{12} & b_{13} \\\\\n",
    "   b_{21} & b_{22} & b_{23} \\\\\n",
    "   b_{31} & b_{32} & b_{33}\n",
    " \\end{array} \\right)\n",
    " \\left( \\begin{array}{c}\n",
    "   a_{1}  \\\\\n",
    "   a_{2}  \\\\\n",
    "   a_{3}\n",
    " \\end{array} \\right)\n",
    "$$"
   ]
  },
  {
   "cell_type": "markdown",
   "metadata": {},
   "source": [
    "When we substitute $M = M^A + M^S$ into the formula above"
   ]
  },
  {
   "cell_type": "markdown",
   "metadata": {},
   "source": [
    "$$\n",
    "(a_1, a_2, a_3)\n",
    "\\left[\n",
    " \\left(\\begin{array}{ccc}\n",
    "  b_{11} & \\frac{b_{12} + b_{21}}{2} & \\frac{b_{13} + b_{31}}{2} \\\\\n",
    "  \\frac{b_{21} + b_{12}}{2} & b_{22} & \\frac{b_{23} + b{32}}{2} \\\\\n",
    "  \\frac{b_{31} + b_{13}}{2} & \\frac{b_{32} + b_{23}}{2} & b_{33}\n",
    "\\end{array}\\right)\n",
    " +\n",
    "\\left(\\begin{array}{ccc}\n",
    "  0 & \\frac{b_{12} - b_{21}}{2} & \\frac{b_{13} - b_{31}}{2} \\\\\n",
    "  \\frac{b_{21} - b_{12}}{2} & 0 & \\frac{b_{23} - b{32}}{2} \\\\\n",
    "  \\frac{b_{31} - b_{13}}{2} & \\frac{b_{32} - b_{23}}{2} & 0\n",
    "\\end{array}\\right)\n",
    "\\right]\n",
    " \\left( \\begin{array}{c}\n",
    "   a_{1}  \\\\\n",
    "   a_{2}  \\\\\n",
    "   a_{3}\n",
    " \\end{array} \\right)\n",
    "$$"
   ]
  },
  {
   "cell_type": "markdown",
   "metadata": {},
   "source": [
    "Take a look at the second term in the Brackets, performing the distributive law."
   ]
  },
  {
   "cell_type": "markdown",
   "metadata": {},
   "source": [
    "$$\n",
    "(a_1, a_2, a_3)\n",
    "\\left(\\begin{array}{ccc}\n",
    "  0 & \\frac{b_{12} - b_{21}}{2} & \\frac{b_{13} - b_{31}}{2} \\\\\n",
    "  \\frac{b_{21} - b_{12}}{2} & 0 & \\frac{b_{23} - b{32}}{2} \\\\\n",
    "  \\frac{b_{31} - b_{13}}{2} & \\frac{b_{32} - b_{23}}{2} & 0\n",
    "\\end{array}\\right)\n",
    " \\left( \\begin{array}{c}\n",
    "   a_{1}  \\\\\n",
    "   a_{2}  \\\\\n",
    "   a_{3}\n",
    " \\end{array} \\right)\n",
    "$$"
   ]
  },
  {
   "cell_type": "markdown",
   "metadata": {},
   "source": [
    "This can be written"
   ]
  },
  {
   "cell_type": "markdown",
   "metadata": {},
   "source": [
    "$$\n",
    "\\left(\\frac{b_{21} - b_{12}}{2}\\cdot a_2 + \\frac{b_{31} - b_{13}}{2}\\cdot a_3\\right)\\cdot a_1\n",
    "+\n",
    "\\left(\\frac{b_{12} - b_{21}}{2}\\cdot a_1 + \\frac{b_{32} - b_{23}}{2}\\cdot a_3\\right)\\cdot a_2\n",
    "+\n",
    "\\left(\\frac{b_{13} - b_{31}}{2}\\cdot a_1 + \\frac{b_{23} - b_{32}}{2}\\cdot a_2\\right)\\cdot a_3\n",
    "$$"
   ]
  },
  {
   "cell_type": "markdown",
   "metadata": {},
   "source": [
    "We can easily find that this equal to zero because for every positive term there is an equal and opposite negative term."
   ]
  },
  {
   "cell_type": "markdown",
   "metadata": {},
   "source": [
    "### How to prove that the eigenvalues of $\\Sigma$ are real?"
   ]
  },
  {
   "cell_type": "markdown",
   "metadata": {},
   "source": [
    "Firstly, we can pre-multiply both sides by $\\Sigma \\mathbf{\\mu_i} = \\lambda_i \\mathbf{\\mu_i}$ by $\\mathbf{\\mu_i^\\dagger}$, the conjugate transpose of $\\mathbf{\\mu_i}$, the result given by:"
   ]
  },
  {
   "cell_type": "markdown",
   "metadata": {},
   "source": [
    "$$\n",
    "\\mathbf{\\mu_i^\\dagger}\\Sigma \\mathbf{\\mu_i} = \\lambda_i \\mathbf{\\mu_i^\\dagger}\\mathbf{\\mu_i}.\n",
    "$$"
   ]
  },
  {
   "cell_type": "markdown",
   "metadata": {},
   "source": [
    "Then consider the conjugate transpose of  $\\Sigma \\mathbf{\\mu_i} = \\lambda_i \\mathbf{\\mu_i}$"
   ]
  },
  {
   "cell_type": "markdown",
   "metadata": {},
   "source": [
    "$$\n",
    "\\mu_i^\\dagger \\Sigma^\\dagger = \\lambda_i^* \\mu_i^\\dagger\n",
    "$$"
   ]
  },
  {
   "cell_type": "markdown",
   "metadata": {},
   "source": [
    "post-multiply it by $\\mu_i$, which gives"
   ]
  },
  {
   "cell_type": "markdown",
   "metadata": {},
   "source": [
    "$$\n",
    "\\mu_i^\\dagger \\Sigma^\\dagger \\mu_i = \\lambda_i^* \\mu_i^\\dagger \\mu_i\n",
    "$$"
   ]
  },
  {
   "cell_type": "markdown",
   "metadata": {},
   "source": [
    "Because $\\Sigma$ is a real, symmetric matrix, we have $\\Sigma^\\dagger = \\Sigma$"
   ]
  },
  {
   "cell_type": "markdown",
   "metadata": {},
   "source": [
    "So "
   ]
  },
  {
   "cell_type": "markdown",
   "metadata": {},
   "source": [
    "$$\n",
    "\\mu_i^\\dagger \\Sigma \\mu_i = \\mu_i^\\dagger \\Sigma^\\dagger \\mu_i = \\lambda_i^* \\mu_i^\\dagger \\mu_i\n",
    "$$"
   ]
  },
  {
   "cell_type": "markdown",
   "metadata": {},
   "source": [
    "Now subtract $\\mathbf{\\mu_i^\\dagger}\\Sigma \\mathbf{\\mu_i} = \\lambda_i \\mathbf{\\mu_i^\\dagger}\\mathbf{\\mu_i}$  from  $\\mu_i^\\dagger \\Sigma \\mu_i  = \\lambda_i^* \\mu_i^\\dagger \\mu_i$ to get"
   ]
  },
  {
   "cell_type": "markdown",
   "metadata": {},
   "source": [
    "$$\n",
    "0 = (\\lambda_i^* - \\lambda_i)\\mu_i^\\dagger \\mu_i\n",
    "$$"
   ]
  },
  {
   "cell_type": "markdown",
   "metadata": {},
   "source": [
    "Hence $\\lambda_i^* = \\lambda_i$ and so $\\lambda_i$ is real"
   ]
  },
  {
   "cell_type": "markdown",
   "metadata": {},
   "source": [
    "### Why can $\\Sigma$ be expressed as an expansion in terms of its eigenvectors?(2.48)"
   ]
  },
  {
   "cell_type": "markdown",
   "metadata": {},
   "source": [
    "We want to prove that $\\Sigma = \\sum^D_{i=1}\\lambda_i \\mu_i \\mu_i^\\mathrm{T}$, this can be written as"
   ]
  },
  {
   "cell_type": "markdown",
   "metadata": {},
   "source": [
    "$$\\Sigma = U\\Lambda U^\\mathrm{T}$$"
   ]
  },
  {
   "cell_type": "markdown",
   "metadata": {},
   "source": [
    "where $U$ is a $D\\times D$ matrix with the eigenvectors $\\mu_1,\\cdots, \\mu_D$ as its columns and $\\Lambda$ is a diagnal matrix with the eigenvalues $\\lambda_1, \\cdots , \\lambda_D$ along its diagnal"
   ]
  },
  {
   "cell_type": "markdown",
   "metadata": {},
   "source": [
    "For simplicity, we denote $M = U\\Lambda U^\\mathrm{T}$"
   ]
  },
  {
   "cell_type": "markdown",
   "metadata": {},
   "source": [
    "Thus we have"
   ]
  },
  {
   "cell_type": "markdown",
   "metadata": {},
   "source": [
    "$$U^\\mathrm{T}MU = U^\\mathrm{T}U\\Lambda U^\\mathrm{T}U = \\Lambda$$"
   ]
  },
  {
   "cell_type": "markdown",
   "metadata": {},
   "source": [
    "From (2.45), we know that $\\Sigma \\mu_i = \\lambda_i \\mu_i$, this can be written int matrix form as "
   ]
  },
  {
   "cell_type": "markdown",
   "metadata": {},
   "source": [
    "$$\\Sigma U = \\Lambda U$$"
   ]
  },
  {
   "cell_type": "markdown",
   "metadata": {},
   "source": [
    "Similarly, (2.46) can be written as"
   ]
  },
  {
   "cell_type": "markdown",
   "metadata": {},
   "source": [
    "$$U^\\mathrm{T}U = I$$"
   ]
  },
  {
   "cell_type": "markdown",
   "metadata": {},
   "source": [
    "where $I$ is the identity matrix"
   ]
  },
  {
   "cell_type": "markdown",
   "metadata": {},
   "source": [
    "Hence we have"
   ]
  },
  {
   "cell_type": "markdown",
   "metadata": {},
   "source": [
    "$$U^\\mathrm{T}\\left(\\Sigma U \\right)= U^\\mathrm{T} \\left(\\Lambda U\\right) = U^\\mathrm{T}U\\Lambda = I\\Lambda = \\Lambda$$"
   ]
  },
  {
   "cell_type": "markdown",
   "metadata": {},
   "source": [
    "From $$U^\\mathrm{T}MU  = \\Lambda$$\n",
    "$$U^\\mathrm{T}\\Sigma U  = \\Lambda$$"
   ]
  },
  {
   "cell_type": "markdown",
   "metadata": {},
   "source": [
    "we can draw the conclusion that $\\Sigma = M = \\sum^D_{i = 1}\\lambda_i \\mu_i \\mu_i^\\mathrm{T}$ and (2.48) holds"
   ]
  },
  {
   "cell_type": "markdown",
   "metadata": {},
   "source": [
    "As for (2.49), applying $U^{-1} = U^\\mathrm{T}$"
   ]
  },
  {
   "cell_type": "markdown",
   "metadata": {},
   "source": [
    "$$\n",
    "\\Sigma^{-1} = \\left(U\\Lambda U^\\mathrm{T}\\right)^{-1} = (U^\\mathrm{T})^{-1}\\Lambda^{-1}U^{-1} = U\\Lambda^{-1}U^\\mathrm{T} = \\sum^D_{i = 1}\\frac{1}{\\lambda_i}\\mu_i \\mu_i^\\mathrm{T}\n",
    "$$"
   ]
  },
  {
   "cell_type": "markdown",
   "metadata": {},
   "source": [
    "### Derivation completion of 2.50 - 2.51"
   ]
  },
  {
   "cell_type": "markdown",
   "metadata": {},
   "source": [
    "$$\n",
    "\\begin{aligned}\n",
    "\\Delta^2 &= (\\mathbf{x} - \\mathbf{\\mu})^\\mathrm{T} \\Sigma^{-1}(\\mathbf{x} - \\mathbf{\\mu})\\\\\n",
    "& = (\\mathbf{x} - \\mathbf{\\mu})^\\mathrm{T} \\sum^D_{i=1}\\frac{1}{\\lambda}_i \\mathbf{\\mu}_i \\mathbf{\\mu}_i^\\mathrm{T}(\\mathbf{x} - \\mathbf{\\mu})\\\\\n",
    "& = (\\mathbf{x} - \\mathbf{\\mu})^\\mathrm{T}U\\Lambda^{-1}U^\\mathrm{T}(\\mathbf{x} - \\mathbf{\\mu})\\\\\n",
    "& = \\Lambda^{-1}(\\mathbf{x} - \\mathbf{\\mu})^\\mathrm{T}UU^\\mathrm{T}(\\mathbf{x} - \\mathbf{\\mu})\\\\\n",
    "& = \\Lambda^{-1}\\left[U^\\mathrm{T}(\\mathbf{x} - \\mathbf{\\mu})\\right]^\\mathrm{T} \\left[U^\\mathrm{T}(\\mathbf{x} - \\mathbf{\\mu})\\right]\\\\\n",
    "& = \\sum^D_{i = 1}\\frac{y_i^2}{\\lambda_i}\n",
    "\\end{aligned}\n",
    "$$\n"
   ]
  },
  {
   "cell_type": "markdown",
   "metadata": {},
   "source": [
    "where $U$ is a $D\\times D$ matrix with the eigenvectors $\\mu_1,\\cdots, \\mu_D$ as its columns, and $y_i = \\mathbf{\\mu}_i^\\mathrm{T}(\\mathbf{x} - \\mathbf{\\mu})$"
   ]
  },
  {
   "cell_type": "markdown",
   "metadata": {},
   "source": [
    "### What is the reason that the distribution cannot be properly normalized if the covariance matrix is not strictly positive?"
   ]
  },
  {
   "cell_type": "markdown",
   "metadata": {},
   "source": [
    "I have not got an idea yet"
   ]
  },
  {
   "cell_type": "markdown",
   "metadata": {},
   "source": [
    "### Comprehension about 2.58"
   ]
  },
  {
   "cell_type": "markdown",
   "metadata": {},
   "source": [
    "\\begin{eqnarray}\n",
    "\\mathbb{E}[X] &=& \\frac{1}{(2\\pi)^{D/2}}\\frac{1}{|\\Sigma|^{1/2}}\\int exp\\left\\{-\\frac{1}{2}(X - \\mu)^\\mathrm{T}\\Sigma^{-1}(X - \\mu)\\right\\}\\mathbf{x}d\\mathbf{x} \\\\\n",
    "&=& \\frac{1}{(2\\pi)^{D/2}}\\frac{1}{|\\Sigma|^{1/2}}\\int exp\\left\\{-\\frac{1}{2}z^\\mathrm{T}\\Sigma^{-1}z\\right\\}(z+\\mu)dz  \\tag{2.58}\n",
    "\\end{eqnarray}"
   ]
  },
  {
   "cell_type": "markdown",
   "metadata": {},
   "source": [
    "For the first time when I reading this parapgraph, I was confused about the sentence **\"We now note that the exponent\n",
    "is an even function of the components of z and, because the integrals over these are\n",
    "taken over the range $(-\\infty, \\infty)$, the term in $z$ in the factor $(z + \\mu)$ will vanish by\n",
    "symmetry.\"**"
   ]
  },
  {
   "cell_type": "markdown",
   "metadata": {},
   "source": [
    "The thought of \"The result of the integral over an even function should not equal to zero even if it is taken over the range $(-\\infty, \\infty)$\" go across my mind a thousand times."
   ]
  },
  {
   "cell_type": "markdown",
   "metadata": {},
   "source": [
    "After a while, however, I realized that I have misunderstanded this sentence. "
   ]
  },
  {
   "cell_type": "markdown",
   "metadata": {},
   "source": [
    "The function $exp\\left\\{-\\frac{1}{2}z^\\mathrm{T}\\Sigma^{-1}z\\right\\}$ is an even function, so that by multiplying $z$, it will become an odd function, so the term $\\int exp\\left\\{-\\frac{1}{2}z^\\mathrm{T}\\Sigma^{-1}z\\right\\}z$ will vanish by symmetry"
   ]
  },
  {
   "cell_type": "markdown",
   "metadata": {},
   "source": [
    "Thus "
   ]
  },
  {
   "cell_type": "markdown",
   "metadata": {},
   "source": [
    "\\begin{eqnarray}\n",
    "\\mathbb{E}[X] &=& \\frac{1}{(2\\pi)^{D/2}}\\frac{1}{|\\Sigma|^{1/2}}\\int exp\\left\\{-\\frac{1}{2}z^\\mathrm{T}\\Sigma^{-1}z\\right\\}(z+\\mathbf{\\mu})dz\\\\\n",
    "&=& \\frac{1}{(2\\pi)^{D/2}}\\frac{1}{|\\Sigma|^{1/2}}\\int exp\\left\\{-\\frac{1}{2}z^\\mathrm{T}\\Sigma^{-1}z\\right\\}\\mathbf{\\mu} dz\\\\\n",
    "&=& \\mathbf{\\mu}\\frac{1}{(2\\pi)^{D/2}}\\frac{1}{|\\Sigma|^{1/2}}\\int exp\\left\\{-\\frac{1}{2}z^\\mathrm{T}\\Sigma^{-1}z\\right\\} dz\\\\\n",
    "&=& \\mathbf{\\mu}\n",
    "\\end{eqnarray}"
   ]
  },
  {
   "cell_type": "markdown",
   "metadata": {},
   "source": [
    "### How can we get 2.60?"
   ]
  },
  {
   "cell_type": "markdown",
   "metadata": {},
   "source": [
    "Making use of (2.45), we know that the eigenvectors can  be chosen to form an orthonormal set.Thus $\\forall z \\in R^D$, there exist $y_j\\in R, j = 1, 2, \\cdots, D$,such that the following holds."
   ]
  },
  {
   "cell_type": "markdown",
   "metadata": {},
   "source": [
    "$$\n",
    "z = \\sum^D_{j = 1}y_j u_j\n",
    "\\tag{1}\n",
    "$$"
   ]
  },
  {
   "cell_type": "markdown",
   "metadata": {},
   "source": [
    "Here the eigenvectors satisfy $u_J^\\mathrm{T}u_j = 1$ and $u_j^\\mathrm{T} u_k = 0$ when $j \\neq k$"
   ]
  },
  {
   "cell_type": "markdown",
   "metadata": {},
   "source": [
    "By pre-multiply the both sides by $u_j^\\mathrm{T}$, we have"
   ]
  },
  {
   "cell_type": "markdown",
   "metadata": {},
   "source": [
    "$$\n",
    "\\begin{aligned}\n",
    "  u_{j_0}^\\mathrm{T}z &= u_{j_0}^ \\mathrm{T} \\sum^D_{j=1}y_ju_j\\\\\n",
    "  & = \\sum^D_{j = 1}y_ju_{j_0}^ \\mathrm{T} u_j\\\\\n",
    "  & = \\sum^D_{j\\neq j_0}y_j u_{j_0}^\\mathrm{T}u_j + y_{j_0}u_{j_0}^\\mathrm{T}u_{j_0}\\\\\n",
    "  & = \\sum^D_{j \\neq j_0}y_j\\times 0 + y_{j_0}\\times 1\\\\\n",
    "  & = y_{j_0}\n",
    "\\end{aligned}\n",
    "$$"
   ]
  },
  {
   "cell_type": "markdown",
   "metadata": {},
   "source": [
    "$j_0$ can be chosen arbitrarily from $\\{1,2,\\cdots ,D\\}$, so the equation 2.60 holds"
   ]
  },
  {
   "cell_type": "markdown",
   "metadata": {},
   "source": [
    "### How to derivate 2.61?"
   ]
  },
  {
   "cell_type": "markdown",
   "metadata": {},
   "source": [
    "\\begin{eqnarray}\n",
    "\\mathbb{E}[XX^T] &=& \\frac{1}{(2\\pi)^{D/2}}\\frac{1}{|\\Sigma|^{1/2}}\\int exp\\left\\{-\\frac{1}{2}(X - \\mu)^T\\Sigma^{-1}(X - \\mu)\\right\\}XX^TdX \\\\\n",
    "\\tag{$z = x-\\mu$}\n",
    "&=& \\frac{1}{(2\\pi)^{D/2}}\\frac{1}{|\\Sigma|^{1/2}}\\int exp\\left\\{-\\frac{1}{2}\\mathbf{z}^T\\Sigma^{-1}\\mathbf{z}\\right\\}(\\mathbf{z}+\\mu)(\\mathbf{z}+\\mu)^\\mathrm{T}d\\mathbf{z}\\\\\n",
    "\\tag{symmetry}\n",
    "&=& \\frac{1}{(2\\pi)^{D/2}}\\frac{1}{|\\Sigma|^{1/2}}\\int exp\\left\\{-\\frac{1}{2}\\mathbf{z}^T\\Sigma^{-1}\\mathbf{z}\\right\\}(\\mathbf{z}\\mathbf{z}^\\mathrm{T} + \\mu \\mu^\\mathrm{T})dz \\\\\n",
    "\\tag{distributive}\n",
    "&=& \\mu \\mu^\\mathrm{T}\\frac{1}{(2\\pi)^{D/2}}\\frac{1}{|\\Sigma|^{1/2}}\\int exp\\left\\{-\\frac{1}{2}\\mathbf{z}^T\\Sigma^{-1}\\mathbf{z}\\right\\}dz \n",
    "+\n",
    "\\frac{1}{(2\\pi)^{D/2}}\\frac{1}{|\\Sigma|^{1/2}}\\int exp\\left\\{-\\frac{1}{2}\\mathbf{z}^T\\Sigma^{-1}\\mathbf{z}\\right\\}\\mathbf{z}\\mathbf{z}^\\mathrm{T}dz \\\\\n",
    "\\tag{normalization}\n",
    "&=& \\mu \\mu^\\mathrm{T}\\cdot 1 + \\frac{1}{(2\\pi)^{D/2}}\\frac{1}{|\\Sigma|^{1/2}}\\int exp\\left\\{-\\frac{1}{2}\\mathbf{z}^T\\Sigma^{-1}\\mathbf{z}\\right\\}\\mathbf{z}\\mathbf{z}^\\mathrm{T}dz \\\\\n",
    "\\tag{2.50}\n",
    "&=& \\mu \\mu^\\mathrm{T}\\cdot 1 + \\frac{1}{(2\\pi)^{D/2}}\\frac{1}{|\\Sigma|^{1/2}}\\int exp\\left\\{-\\sum\\limits_{k=1}^D\\frac{y_k^2}{2\\lambda_k}\\right\\}\\mathbf{z}\\mathbf{z}^\\mathrm{T}dz \\\\\n",
    "\\tag{2.60}\n",
    "&=& \\mu \\mu^\\mathrm{T}\\cdot 1 + \\frac{1}{(2\\pi)^{D/2}}\\frac{1}{|\\Sigma|^{1/2}}\\int exp\\left\\{-\\sum\\limits_{k=1}^D\\frac{y_k^2}{2\\lambda_k}\\right\\}\\sum^D_{i=1}y_i u_i \\sum^D_{j=1}y_j u_jdz \\\\\n",
    "\\tag{rearrange}\n",
    "&=& \\mu \\mu^\\mathrm{T} + \\frac{1}{(2\\pi)^{D/2}}\\frac{1}{|\\Sigma|^{1/2}}\\sum\\limits_{i=1}^D\\sum\\limits_{j=1}^D u_i u_j^T\\int exp\\left\\{-\\sum\\limits_{k=1}^D\\frac{y_k^2}{2\\lambda_k}\\right\\}y_iy_jdy \\\\\n",
    "\\tag{symmetry}\n",
    "&=& \\mu \\mu^\\mathrm{T} + \\frac{1}{(2\\pi)^{D/2}}\\frac{1}{|\\Sigma|^{1/2}}\\sum\\limits_{i=1}^D u_i u_i^T\\int exp\\left\\{-\\sum\\limits_{k=1}^D\\frac{y_k^2}{2\\lambda_k}\\right\\}y_i^2dy \\\\\\\n",
    "\\tag{2.55}\n",
    "&=& \\mu \\mu^\\mathrm{T} + \\frac{1}{(2\\pi)^{D/2}}\\frac{1}{\\prod^D_{j = 1} \\lambda_j^{1/2}}\\sum\\limits_{i=1}^D u_i u_i^T\\int exp\\left\\{-\\sum\\limits_{k=1}^D\\frac{y_k^2}{2\\lambda_k}\\right\\}y_i^2dy \\\\\n",
    "\\tag{simplify}\n",
    "&=& \\mu \\mu^\\mathrm{T} + \\prod^D_{j = 1}\\frac{1}{(2\\pi\\lambda_j)^{1/2}}\\sum\\limits_{i=1}^D u_i u_i^T\\int exp\\left\\{-\\sum\\limits_{k=1}^D\\frac{y_k^2}{2\\lambda_k}\\right\\}y_i^2dy \\\\\n",
    "\\tag{exponent}\n",
    "&=& \\mu \\mu^\\mathrm{T} + \\prod^D_{j = 1}\\frac{1}{(2\\pi\\lambda_j)^{1/2}}\\sum\\limits_{i=1}^D u_i u_i^T\\int \\prod^D_{k = 1}exp\\left\\{-\\frac{y_k^2}{2\\lambda_k}\\right\\}y_i^2dy \\\\\n",
    "\\tag{simplify}\n",
    "&=& \\mu \\mu^\\mathrm{T} + \\sum\\limits_{i=1}^D u_i u_i^T\\int \\prod^D_{j = 1}\\frac{1}{(2\\pi\\lambda_j)^{1/2}}exp\\left\\{-\\frac{y_j^2}{2\\lambda_j}\\right\\}y_i^2dy \\\\\n",
    "\\tag{1.50&2.48}\n",
    "&=& \\mu \\mu^\\mathrm{T}  +  \\sum\\limits_{i=1}^Du_iu_i^T\\lambda_i = \\mu \\mu^\\mathrm{T} + \\Sigma \n",
    "\\end{eqnarray}"
   ]
  },
  {
   "cell_type": "markdown",
   "metadata": {},
   "source": [
    "### Why does a general symmetric covariance matrix $\\Sigma$ have $D(D+1)/2$ independent parameters"
   ]
  },
  {
   "cell_type": "markdown",
   "metadata": {},
   "source": [
    "Because of symmetry,in the first line, all the elements can be chosen independently, int the second line, only $D-1$ elements can be chosen independently, since $\\sigma_{21} = \\sigma_{12}$, where $\\sigma$ is the element of $\\Sigma$.Similarly, there are $D-2$ independent parameters in the third line and $D-3$ for the fourth."
   ]
  },
  {
   "cell_type": "markdown",
   "metadata": {},
   "source": [
    "The rest can be done in the same manner.As a result, there $D+(D-1)+(D-2)\\cdots 1$independent parameters in total,i.e.$$\\frac{D(D+1)}{2}$$"
   ]
  },
  {
   "cell_type": "markdown",
   "metadata": {},
   "source": [
    "## 2.3.1 Conditional Gaussian distributions"
   ]
  },
  {
   "cell_type": "markdown",
   "metadata": {},
   "source": [
    "### The inverse of a symmetric matrix is itself symmetric"
   ]
  },
  {
   "cell_type": "markdown",
   "metadata": {},
   "source": [
    "Consider a general symmetric matrix $M$, so that $M^\\mathrm{T} = M$. The inverse matrix $M^{-1}$ satisfies $$MM^{-1} = I$$"
   ]
  },
  {
   "cell_type": "markdown",
   "metadata": {},
   "source": [
    "Taking the transpose of both sides"
   ]
  },
  {
   "cell_type": "markdown",
   "metadata": {},
   "source": [
    "$$(M^{-1})^\\mathrm{T}M^\\mathrm{T} = I^\\mathrm{T} = I$$"
   ]
  },
  {
   "cell_type": "markdown",
   "metadata": {},
   "source": [
    "Applying $M^\\mathrm{T} = M$, we obtain"
   ]
  },
  {
   "cell_type": "markdown",
   "metadata": {},
   "source": [
    "$$(M^{-1})^\\mathrm{T}M^ = I$$"
   ]
  },
  {
   "cell_type": "markdown",
   "metadata": {},
   "source": [
    "Hence"
   ]
  },
  {
   "cell_type": "markdown",
   "metadata": {},
   "source": [
    "$$(M^{-1})^\\mathrm{T} = M^{-1}$$"
   ]
  },
  {
   "cell_type": "markdown",
   "metadata": {},
   "source": [
    "So the inverse of a symmetric matrix is itself symmetric"
   ]
  },
  {
   "cell_type": "markdown",
   "metadata": {
    "collapsed": true
   },
   "source": [
    "### Validation of 2.76"
   ]
  },
  {
   "cell_type": "markdown",
   "metadata": {},
   "source": [
    "By multiplying both sides by the matrix\n",
    "$$\n",
    "\\left(\n",
    "\\begin{array}{cc}\n",
    "A & B \\\\\n",
    "C & D \\\\\n",
    "\\end{array}\n",
    "\\right)\n",
    "$$"
   ]
  },
  {
   "cell_type": "markdown",
   "metadata": {},
   "source": [
    "we have"
   ]
  },
  {
   "cell_type": "markdown",
   "metadata": {},
   "source": [
    "$$\n",
    "\\begin{aligned}\n",
    "  \\left(\n",
    "  \\begin{array}{cc}\n",
    "    A & B \\\\\n",
    "    C & D \\\\\n",
    "  \\end{array}\n",
    "  \\right)^{-1}\n",
    "  \\left(\n",
    "  \\begin{array}{cc}\n",
    "    A & B \\\\\n",
    "    C & D \\\\\n",
    "  \\end{array}\n",
    "  \\right)\n",
    "   & =\n",
    "   \\left(\n",
    "   \\begin{array}{cc}\n",
    "     M & -MBD^{-1} \\\\\n",
    "     -D^{-1}CM & D^{-1} + D^{-1}CMBD^{-1} \\\\\n",
    "   \\end{array}\n",
    "   \\right)\n",
    "   \\left(\n",
    "   \\begin{array}{cc}\n",
    "     A & B \\\\\n",
    "     C & D \\\\\n",
    "   \\end{array}\n",
    "   \\right)\\\\\\\\\n",
    "  & =\n",
    "  \\left(\n",
    "  \\begin{array}{cc}\n",
    "    MA-MBD^{-1}C & MB_MBD^{-1}D \\\\\n",
    "    -D^{-1}CMA+D^{-1}C+D^{-1}CMBD^{-1}C & -D^{-1}CMB + I + D^{-1}CMBD^{-1}D\\\\\n",
    "  \\end{array}\n",
    "  \\right)\\\\\\\\\n",
    "  & =\n",
    "  \\left(\n",
    "  \\begin{array}{cc}\n",
    "    M(A-BD^{-1}C) & MB(I - D^{-1}D)\\\\\n",
    "    D^{-1}CM(BD^{-1}C - A) + D^{-1}C & -D^{-1}CMB + I + D^{-1}CMB\\\\\n",
    "  \\end{array}\n",
    "  \\right)\\\\\\\\\n",
    "  & =\n",
    "  \\left(\n",
    "  \\begin{array}{cc}\n",
    "    I & MB\\cdot 0\\\\\n",
    "    -D^{-1}C + D^{-1}C & I\\\\\n",
    "  \\end{array}\n",
    "  \\right)\\\\\\\\\n",
    "  & =\n",
    "  \\left(\n",
    "  \\begin{array}{cc}\n",
    "    I & 0 \\\\\n",
    "    0 & I \\\\\n",
    "  \\end{array}\n",
    "  \\right)\n",
    "\\end{aligned}\n",
    "$$"
   ]
  },
  {
   "cell_type": "code",
   "execution_count": null,
   "metadata": {
    "collapsed": true
   },
   "outputs": [],
   "source": []
  }
 ],
 "metadata": {
  "kernelspec": {
   "display_name": "Python [Root]",
   "language": "python",
   "name": "Python [Root]"
  },
  "language_info": {
   "codemirror_mode": {
    "name": "ipython",
    "version": 2
   },
   "file_extension": ".py",
   "mimetype": "text/x-python",
   "name": "python",
   "nbconvert_exporter": "python",
   "pygments_lexer": "ipython2",
   "version": "2.7.12"
  }
 },
 "nbformat": 4,
 "nbformat_minor": 0
}
